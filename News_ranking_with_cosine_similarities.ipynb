{
  "nbformat": 4,
  "nbformat_minor": 0,
  "metadata": {
    "colab": {
      "name": "News_ranking_with_cosine_similarities.ipynb",
      "provenance": [],
      "collapsed_sections": [],
      "authorship_tag": "ABX9TyNRJqOI2cvQU/31eOAD6g1f",
      "include_colab_link": true
    },
    "kernelspec": {
      "name": "python3",
      "display_name": "Python 3"
    }
  },
  "cells": [
    {
      "cell_type": "markdown",
      "metadata": {
        "id": "view-in-github",
        "colab_type": "text"
      },
      "source": [
        "<a href=\"https://colab.research.google.com/github/princexoleo/news_scrapping_and_ranking_similarity/blob/master/News_ranking_with_cosine_similarities.ipynb\" target=\"_parent\"><img src=\"https://colab.research.google.com/assets/colab-badge.svg\" alt=\"Open In Colab\"/></a>"
      ]
    },
    {
      "cell_type": "markdown",
      "metadata": {
        "id": "KWO6O6U5pqY4",
        "colab_type": "text"
      },
      "source": [
        "#News Scrapping from Various bangla Newspaper\n",
        "\n",
        "\n",
        "*   [মানবজমিন](https://www.mzamin.com/)\n",
        "\n"
      ]
    },
    {
      "cell_type": "markdown",
      "metadata": {
        "id": "Shog_CoypVA8",
        "colab_type": "text"
      },
      "source": [
        "##Import Necessary Libraries"
      ]
    },
    {
      "cell_type": "code",
      "metadata": {
        "id": "l7xfwIp3BYVx",
        "colab_type": "code",
        "colab": {}
      },
      "source": [
        "from requests import get \n",
        "from bs4 import BeautifulSoup\n",
        "import pandas as pd"
      ],
      "execution_count": 0,
      "outputs": []
    },
    {
      "cell_type": "markdown",
      "metadata": {
        "id": "fsesTVV20Krn",
        "colab_type": "text"
      },
      "source": [
        "##Implement Scrapping Function"
      ]
    },
    {
      "cell_type": "code",
      "metadata": {
        "id": "Fa8kr2-9p5Bx",
        "colab_type": "code",
        "colab": {}
      },
      "source": [
        "def scrapping_from_newspaper(newspaper_url, domain_newspaper):\n",
        "  # initialize some temporary list\n",
        "  print(\"[info] Newspaper Scarpping started ..\")\n",
        "  all_url = []\n",
        "  all_titles = []\n",
        "  all_contents = []\n",
        "\n",
        "  # get html from that given newspaper url\n",
        "  news_html = get(newspaper_url)\n",
        "  # create a beautifulsoup object from that news_html page\n",
        "  soup = BeautifulSoup(news_html.text,'html.parser')\n",
        "  # find <li> tag from the soup objects\n",
        "  href_containers = soup.find_all('li',class_=\"details-list\")\n",
        "  # now iterate to get the news title and url for details of the news\n",
        "  for ob in href_containers:\n",
        "    # find <a> tag\n",
        "    temp_a = ob.find('a')\n",
        "    # append the new title \n",
        "    all_titles.append(temp_a.text)\n",
        "    # concate domainName with temp_a.get(href) which will help us to get the full details of the news\n",
        "    # like \"www.something.com/\"+\"article/157123-sometitle\"\n",
        "    deep_url = domain_newspaper+temp_a.get('href')\n",
        "    # append in a list\n",
        "    all_url.append(deep_url)\n",
        "    # now get the full details/content of the news from deep_url\n",
        "    deep_html = get(deep_url)\n",
        "    deep_soup = BeautifulSoup(deep_html.text, \"html.parser\")\n",
        "    deep_content = deep_soup.find('div', class_=\"details-text\")\n",
        "    # and append in a list\n",
        "    all_contents.append(deep_content)\n",
        "  \n",
        "  # finally return every thing in pandas csv format\n",
        "  df = pd.DataFrame()\n",
        "  df[\"URL\"] = all_url.copy()\n",
        "  df[\"Title\"] = all_titles.copy()\n",
        "  df[\"Details\"] = all_contents.copy()\n",
        "  print(\"[info] scrapping news succesfully done..\")\n",
        "  \n",
        "  return df"
      ],
      "execution_count": 0,
      "outputs": []
    },
    {
      "cell_type": "markdown",
      "metadata": {
        "id": "eHWZpPNXuVfI",
        "colab_type": "text"
      },
      "source": [
        "##Calling NewsScrapping Function"
      ]
    },
    {
      "cell_type": "code",
      "metadata": {
        "id": "TkSx9pdLuBUI",
        "colab_type": "code",
        "colab": {
          "base_uri": "https://localhost:8080/",
          "height": 243
        },
        "outputId": "50b8a5e4-4762-4fc6-d261-7a63a944ab89"
      },
      "source": [
        "# news paper link which we want to scrap\n",
        "##\n",
        "url = \"https://www.mzamin.com/archive-result.php?data=1587146400&date=2020-04-18\"\n",
        "main_domain =\"https://www.mzamin.com/\"\n",
        "## call the function\n",
        "df = scrapping_from_newspaper(url, main_domain)\n",
        "df.head()"
      ],
      "execution_count": 17,
      "outputs": [
        {
          "output_type": "stream",
          "text": [
            "[info] Newspaper Scarpping started ..\n",
            "[info] scrapping news succesfully done..\n"
          ],
          "name": "stdout"
        },
        {
          "output_type": "execute_result",
          "data": {
            "text/html": [
              "<div>\n",
              "<style scoped>\n",
              "    .dataframe tbody tr th:only-of-type {\n",
              "        vertical-align: middle;\n",
              "    }\n",
              "\n",
              "    .dataframe tbody tr th {\n",
              "        vertical-align: top;\n",
              "    }\n",
              "\n",
              "    .dataframe thead th {\n",
              "        text-align: right;\n",
              "    }\n",
              "</style>\n",
              "<table border=\"1\" class=\"dataframe\">\n",
              "  <thead>\n",
              "    <tr style=\"text-align: right;\">\n",
              "      <th></th>\n",
              "      <th>URL</th>\n",
              "      <th>Title</th>\n",
              "      <th>Details</th>\n",
              "    </tr>\n",
              "  </thead>\n",
              "  <tbody>\n",
              "    <tr>\n",
              "      <th>0</th>\n",
              "      <td>https://www.mzamin.com/article.php?mzamin=2225...</td>\n",
              "      <td>ইইউ ক্যাপিটালে মৃত্যুর মিছিল, এখনও নিরাপদে আছে...</td>\n",
              "      <td>[\\n, [\\n, [মিজানুর রহমান], \\n, [&lt;h3&gt;অনলাইন &lt;sm...</td>\n",
              "    </tr>\n",
              "    <tr>\n",
              "      <th>1</th>\n",
              "      <td>https://www.mzamin.com/article.php?mzamin=2225...</td>\n",
              "      <td>করোনা কেড়ে নিলো দেড় লাখ প্রাণ</td>\n",
              "      <td>[\\n, [\\n, [অনলাইন ডেস্ক ], \\n, [&lt;h3&gt;অনলাইন &lt;sm...</td>\n",
              "    </tr>\n",
              "    <tr>\n",
              "      <th>2</th>\n",
              "      <td>https://www.mzamin.com/article.php?mzamin=2225...</td>\n",
              "      <td>‘আমিই ভেন্টিলেটর বন্ধ করছি আর রোগীর শেষ মুহূর্...</td>\n",
              "      <td>[\\n, [\\n, [], \\n, [&lt;h3&gt;অনলাইন            &lt;smal...</td>\n",
              "    </tr>\n",
              "    <tr>\n",
              "      <th>3</th>\n",
              "      <td>https://www.mzamin.com/article.php?mzamin=2225...</td>\n",
              "      <td>আরো কঠোর হচ্ছে পুলিশ</td>\n",
              "      <td>[\\n, [\\n, [স্টাফ রিপোর্টার], \\n, [&lt;h3&gt;অনলাইন &lt;...</td>\n",
              "    </tr>\n",
              "    <tr>\n",
              "      <th>4</th>\n",
              "      <td>https://www.mzamin.com/article.php?mzamin=2225...</td>\n",
              "      <td>আইনমন্ত্রীর মায়ের ইন্তেকাল</td>\n",
              "      <td>[\\n, [\\n, [ অনলাইন ডেস্ক], \\n, [&lt;h3&gt;অনলাইন &lt;sm...</td>\n",
              "    </tr>\n",
              "  </tbody>\n",
              "</table>\n",
              "</div>"
            ],
            "text/plain": [
              "                                                 URL  ...                                            Details\n",
              "0  https://www.mzamin.com/article.php?mzamin=2225...  ...  [\\n, [\\n, [মিজানুর রহমান], \\n, [<h3>অনলাইন <sm...\n",
              "1  https://www.mzamin.com/article.php?mzamin=2225...  ...  [\\n, [\\n, [অনলাইন ডেস্ক ], \\n, [<h3>অনলাইন <sm...\n",
              "2  https://www.mzamin.com/article.php?mzamin=2225...  ...  [\\n, [\\n, [], \\n, [<h3>অনলাইন            <smal...\n",
              "3  https://www.mzamin.com/article.php?mzamin=2225...  ...  [\\n, [\\n, [স্টাফ রিপোর্টার], \\n, [<h3>অনলাইন <...\n",
              "4  https://www.mzamin.com/article.php?mzamin=2225...  ...  [\\n, [\\n, [ অনলাইন ডেস্ক], \\n, [<h3>অনলাইন <sm...\n",
              "\n",
              "[5 rows x 3 columns]"
            ]
          },
          "metadata": {
            "tags": []
          },
          "execution_count": 17
        }
      ]
    },
    {
      "cell_type": "markdown",
      "metadata": {
        "id": "38WMXwjcwGxE",
        "colab_type": "text"
      },
      "source": [
        "#Ranking News with Cosine Algorithm"
      ]
    },
    {
      "cell_type": "code",
      "metadata": {
        "id": "kx0ihagzu1D0",
        "colab_type": "code",
        "colab": {}
      },
      "source": [
        "# Import Libraries \n",
        "import pandas as pd\n",
        "from sklearn.feature_extraction.text import CountVectorizer\n",
        "from sklearn.metrics.pairwise import cosine_similarity\n",
        "from sklearn.feature_extraction.text import TfidfVectorizer\n",
        "#data = pd.read_csv(\"/content/drive/My Drive/Colab Notebooks/NewsRankingTool/news_april18.csv\") \n",
        "#data.head()\n",
        "data = df"
      ],
      "execution_count": 0,
      "outputs": []
    },
    {
      "cell_type": "code",
      "metadata": {
        "id": "TGYHNiQ6xXY2",
        "colab_type": "code",
        "colab": {
          "base_uri": "https://localhost:8080/",
          "height": 206
        },
        "outputId": "622bf5be-9127-4bea-8fc7-2d935c45ccbb"
      },
      "source": [
        "# clearning dataset: drop index column\n",
        "data = data.drop('URL', axis=1) # URL column dropped\n",
        "data.head()"
      ],
      "execution_count": 27,
      "outputs": [
        {
          "output_type": "execute_result",
          "data": {
            "text/html": [
              "<div>\n",
              "<style scoped>\n",
              "    .dataframe tbody tr th:only-of-type {\n",
              "        vertical-align: middle;\n",
              "    }\n",
              "\n",
              "    .dataframe tbody tr th {\n",
              "        vertical-align: top;\n",
              "    }\n",
              "\n",
              "    .dataframe thead th {\n",
              "        text-align: right;\n",
              "    }\n",
              "</style>\n",
              "<table border=\"1\" class=\"dataframe\">\n",
              "  <thead>\n",
              "    <tr style=\"text-align: right;\">\n",
              "      <th></th>\n",
              "      <th>Title</th>\n",
              "      <th>Details</th>\n",
              "    </tr>\n",
              "  </thead>\n",
              "  <tbody>\n",
              "    <tr>\n",
              "      <th>0</th>\n",
              "      <td>ইইউ ক্যাপিটালে মৃত্যুর মিছিল, এখনও নিরাপদে আছে...</td>\n",
              "      <td>[\\n, [\\n, [মিজানুর রহমান], \\n, [&lt;h3&gt;অনলাইন &lt;sm...</td>\n",
              "    </tr>\n",
              "    <tr>\n",
              "      <th>1</th>\n",
              "      <td>করোনা কেড়ে নিলো দেড় লাখ প্রাণ</td>\n",
              "      <td>[\\n, [\\n, [অনলাইন ডেস্ক ], \\n, [&lt;h3&gt;অনলাইন &lt;sm...</td>\n",
              "    </tr>\n",
              "    <tr>\n",
              "      <th>2</th>\n",
              "      <td>‘আমিই ভেন্টিলেটর বন্ধ করছি আর রোগীর শেষ মুহূর্...</td>\n",
              "      <td>[\\n, [\\n, [], \\n, [&lt;h3&gt;অনলাইন            &lt;smal...</td>\n",
              "    </tr>\n",
              "    <tr>\n",
              "      <th>3</th>\n",
              "      <td>আরো কঠোর হচ্ছে পুলিশ</td>\n",
              "      <td>[\\n, [\\n, [স্টাফ রিপোর্টার], \\n, [&lt;h3&gt;অনলাইন &lt;...</td>\n",
              "    </tr>\n",
              "    <tr>\n",
              "      <th>4</th>\n",
              "      <td>আইনমন্ত্রীর মায়ের ইন্তেকাল</td>\n",
              "      <td>[\\n, [\\n, [ অনলাইন ডেস্ক], \\n, [&lt;h3&gt;অনলাইন &lt;sm...</td>\n",
              "    </tr>\n",
              "  </tbody>\n",
              "</table>\n",
              "</div>"
            ],
            "text/plain": [
              "                                               Title                                            Details\n",
              "0  ইইউ ক্যাপিটালে মৃত্যুর মিছিল, এখনও নিরাপদে আছে...  [\\n, [\\n, [মিজানুর রহমান], \\n, [<h3>অনলাইন <sm...\n",
              "1                      করোনা কেড়ে নিলো দেড় লাখ প্রাণ  [\\n, [\\n, [অনলাইন ডেস্ক ], \\n, [<h3>অনলাইন <sm...\n",
              "2  ‘আমিই ভেন্টিলেটর বন্ধ করছি আর রোগীর শেষ মুহূর্...  [\\n, [\\n, [], \\n, [<h3>অনলাইন            <smal...\n",
              "3                               আরো কঠোর হচ্ছে পুলিশ  [\\n, [\\n, [স্টাফ রিপোর্টার], \\n, [<h3>অনলাইন <...\n",
              "4                         আইনমন্ত্রীর মায়ের ইন্তেকাল  [\\n, [\\n, [ অনলাইন ডেস্ক], \\n, [<h3>অনলাইন <sm..."
            ]
          },
          "metadata": {
            "tags": []
          },
          "execution_count": 27
        }
      ]
    },
    {
      "cell_type": "code",
      "metadata": {
        "id": "40Pu6arPxq0M",
        "colab_type": "code",
        "colab": {
          "base_uri": "https://localhost:8080/",
          "height": 73
        },
        "outputId": "9682c18f-5983-4fb7-9ed8-c87916495237"
      },
      "source": [
        "input_text = data.loc[0,:]\n",
        "print(str(input_text))"
      ],
      "execution_count": 28,
      "outputs": [
        {
          "output_type": "stream",
          "text": [
            "Title      ইইউ ক্যাপিটালে মৃত্যুর মিছিল, এখনও নিরাপদে আছে...\n",
            "Details    [\\n, [\\n, [মিজানুর রহমান], \\n, [<h3>অনলাইন <sm...\n",
            "Name: 0, dtype: object\n"
          ],
          "name": "stdout"
        }
      ]
    },
    {
      "cell_type": "code",
      "metadata": {
        "id": "IjrcA1BUzNGx",
        "colab_type": "code",
        "colab": {
          "resources": {
            "http://localhost:8080/nbextensions/google.colab/files.js": {
              "data": "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",
              "ok": true,
              "headers": [
                [
                  "content-type",
                  "application/javascript"
                ]
              ],
              "status": 200,
              "status_text": "OK"
            }
          },
          "base_uri": "https://localhost:8080/",
          "height": 94
        },
        "outputId": "ae4c2725-b347-4115-d361-c2eb8053d8d1"
      },
      "source": [
        "# load files from drive/pc \n",
        "# bangla stop words\n",
        "from google.colab import files\n",
        "uploaded = files.upload()\n",
        "\n",
        "for fn in uploaded.keys():\n",
        "  print('User uploaded file \"{name}\" with length {length} bytes'.format(\n",
        "      name=fn, length=len(uploaded[fn])))"
      ],
      "execution_count": 30,
      "outputs": [
        {
          "output_type": "display_data",
          "data": {
            "text/html": [
              "\n",
              "     <input type=\"file\" id=\"files-2e994f56-bb44-484f-9797-e6aa92fbc36c\" name=\"files[]\" multiple disabled />\n",
              "     <output id=\"result-2e994f56-bb44-484f-9797-e6aa92fbc36c\">\n",
              "      Upload widget is only available when the cell has been executed in the\n",
              "      current browser session. Please rerun this cell to enable.\n",
              "      </output>\n",
              "      <script src=\"/nbextensions/google.colab/files.js\"></script> "
            ],
            "text/plain": [
              "<IPython.core.display.HTML object>"
            ]
          },
          "metadata": {
            "tags": []
          }
        },
        {
          "output_type": "stream",
          "text": [
            "Saving bangla_stopwords.txt to bangla_stopwords.txt\n",
            "User uploaded file \"bangla_stopwords.txt\" with length 5840 bytes\n"
          ],
          "name": "stdout"
        }
      ]
    },
    {
      "cell_type": "code",
      "metadata": {
        "id": "fwIDm3tsyTsF",
        "colab_type": "code",
        "colab": {
          "base_uri": "https://localhost:8080/",
          "height": 1000
        },
        "outputId": "8c439c3b-f439-43b9-a253-c895fe820aa0"
      },
      "source": [
        "import nltk, string\n",
        "from sklearn.feature_extraction.text import TfidfVectorizer\n",
        "\n",
        "nltk.download('punkt') # if necessary\n",
        "\n",
        "with open('/content/bangla_stopwords.txt', 'r') as infile:\n",
        "   stop_words = infile.read().splitlines()\n",
        "\n",
        "stemmer = nltk.stem.porter.PorterStemmer()\n",
        "remove_punctuation_map = dict((ord(char), None) for char in string.punctuation)\n",
        "\n",
        "def stem_tokens(tokens):\n",
        "    return [stemmer.stem(item) for item in tokens]\n",
        "\n",
        "'''remove punctuation, lowercase, stem'''\n",
        "def normalize(text):\n",
        "    return stem_tokens(nltk.word_tokenize(text.lower().translate(remove_punctuation_map)))\n",
        "\n",
        "vectorizer = TfidfVectorizer(tokenizer=normalize)\n",
        "\n",
        "# similarity with cosine_smiliarity function\n",
        "def cosine_sim(text1, text2):\n",
        "    tfidf = vectorizer.fit_transform([text1, text2])\n",
        "    return ((tfidf * tfidf.T).A)[0,1]\n",
        "\n",
        "#print (cosine_sim('করোনা কেড়ে নিলো দেড় লাখ প্রাণ', 'করোনা ভাইরাস কেড়ে নিলো দেড় লাখ প্রাণ'))\n",
        "size = len(data.index)\n",
        "for i in range(1,size):\n",
        "  news = data.loc[i,:]\n",
        "  print(\"Similarities with recent news article :\",i,\"-\",cosine_sim(str(input_text), str(news)))"
      ],
      "execution_count": 33,
      "outputs": [
        {
          "output_type": "stream",
          "text": [
            "[nltk_data] Downloading package punkt to /root/nltk_data...\n",
            "[nltk_data]   Unzipping tokenizers/punkt.zip.\n",
            "Similarities with recent news article : 1 - 0.46041014644128897\n",
            "Similarities with recent news article : 2 - 0.40840048351894886\n",
            "Similarities with recent news article : 3 - 0.46098477241782465\n",
            "Similarities with recent news article : 4 - 0.5070299872061635\n",
            "Similarities with recent news article : 5 - 0.33408351047262747\n",
            "Similarities with recent news article : 6 - 0.39244259912930424\n",
            "Similarities with recent news article : 7 - 0.38143986127427953\n",
            "Similarities with recent news article : 8 - 0.4459587206098994\n",
            "Similarities with recent news article : 9 - 0.46041014644128897\n",
            "Similarities with recent news article : 10 - 0.4604101464412889\n",
            "Similarities with recent news article : 11 - 0.48995323531300083\n",
            "Similarities with recent news article : 12 - 0.40840048351894886\n",
            "Similarities with recent news article : 13 - 0.39244259912930424\n",
            "Similarities with recent news article : 14 - 0.43231230509999574\n",
            "Similarities with recent news article : 15 - 0.304203199015152\n",
            "Similarities with recent news article : 16 - 0.46098477241782465\n",
            "Similarities with recent news article : 17 - 0.38143986127427953\n",
            "Similarities with recent news article : 18 - 0.304203199015152\n",
            "Similarities with recent news article : 19 - 0.39244259912930424\n",
            "Similarities with recent news article : 20 - 0.39244259912930424\n",
            "Similarities with recent news article : 21 - 0.4198465541134303\n",
            "Similarities with recent news article : 22 - 0.4459587206098994\n",
            "Similarities with recent news article : 23 - 0.37131352596671297\n",
            "Similarities with recent news article : 24 - 0.43231230509999574\n",
            "Similarities with recent news article : 25 - 0.4744932943426846\n",
            "Similarities with recent news article : 26 - 0.4459587206098994\n",
            "Similarities with recent news article : 27 - 0.38143986127427953\n",
            "Similarities with recent news article : 28 - 0.41764463587730527\n",
            "Similarities with recent news article : 29 - 0.38806271747350984\n",
            "Similarities with recent news article : 30 - 0.40840048351894886\n",
            "Similarities with recent news article : 31 - 0.43231230509999574\n",
            "Similarities with recent news article : 32 - 0.3451770263502142\n",
            "Similarities with recent news article : 33 - 0.39244259912930424\n",
            "Similarities with recent news article : 34 - 0.40840048351894886\n",
            "Similarities with recent news article : 35 - 0.3978422534279613\n",
            "Similarities with recent news article : 36 - 0.40840048351894886\n",
            "Similarities with recent news article : 37 - 0.40840048351894886\n",
            "Similarities with recent news article : 38 - 0.3231672066757835\n",
            "Similarities with recent news article : 39 - 0.38143986127427953\n",
            "Similarities with recent news article : 40 - 0.3451770263502142\n",
            "Similarities with recent news article : 41 - 0.4459587206098994\n",
            "Similarities with recent news article : 42 - 0.29589287759501137\n",
            "Similarities with recent news article : 43 - 0.4198465541134303\n",
            "Similarities with recent news article : 44 - 0.3789706355052944\n",
            "Similarities with recent news article : 45 - 0.4198465541134303\n",
            "Similarities with recent news article : 46 - 0.43231230509999574\n",
            "Similarities with recent news article : 47 - 0.4198465541134303\n",
            "Similarities with recent news article : 48 - 0.40840048351894886\n",
            "Similarities with recent news article : 49 - 0.4459587206098994\n",
            "Similarities with recent news article : 50 - 0.4198465541134303\n",
            "Similarities with recent news article : 51 - 0.43231230509999574\n",
            "Similarities with recent news article : 52 - 0.39244259912930424\n",
            "Similarities with recent news article : 53 - 0.34517702635021424\n",
            "Similarities with recent news article : 54 - 0.39244259912930424\n",
            "Similarities with recent news article : 55 - 0.3132555021033113\n",
            "Similarities with recent news article : 56 - 0.3532666629240935\n",
            "Similarities with recent news article : 57 - 0.38143986127427953\n",
            "Similarities with recent news article : 58 - 0.361953101239887\n",
            "Similarities with recent news article : 59 - 0.37131352596671297\n",
            "Similarities with recent news article : 60 - 0.39244259912930424\n",
            "Similarities with recent news article : 61 - 0.39244259912930424\n",
            "Similarities with recent news article : 62 - 0.37131352596671297\n",
            "Similarities with recent news article : 63 - 0.39784225342796137\n",
            "Similarities with recent news article : 64 - 0.37131352596671297\n",
            "Similarities with recent news article : 65 - 0.39244259912930424\n",
            "Similarities with recent news article : 66 - 0.39244259912930424\n",
            "Similarities with recent news article : 67 - 0.361953101239887\n",
            "Similarities with recent news article : 68 - 0.39244259912930424\n",
            "Similarities with recent news article : 69 - 0.38143986127427953\n",
            "Similarities with recent news article : 70 - 0.39244259912930424\n",
            "Similarities with recent news article : 71 - 0.46098477241782465\n",
            "Similarities with recent news article : 72 - 0.38143986127427953\n",
            "Similarities with recent news article : 73 - 0.37131352596671297\n",
            "Similarities with recent news article : 74 - 0.41764463587730527\n",
            "Similarities with recent news article : 75 - 0.39244259912930424\n",
            "Similarities with recent news article : 76 - 0.4322138416790085\n",
            "Similarities with recent news article : 77 - 0.38143986127427953\n",
            "Similarities with recent news article : 78 - 0.37131352596671297\n",
            "Similarities with recent news article : 79 - 0.39244259912930424\n",
            "Similarities with recent news article : 80 - 0.39784225342796137\n",
            "Similarities with recent news article : 81 - 0.37131352596671297\n",
            "Similarities with recent news article : 82 - 0.37131352596671297\n",
            "Similarities with recent news article : 83 - 0.40445591751872967\n",
            "Similarities with recent news article : 84 - 0.37131352596671297\n",
            "Similarities with recent news article : 85 - 0.41764463587730527\n",
            "Similarities with recent news article : 86 - 0.39244259912930424\n",
            "Similarities with recent news article : 87 - 0.38143986127427953\n",
            "Similarities with recent news article : 88 - 0.39244259912930424\n",
            "Similarities with recent news article : 89 - 0.39244259912930424\n",
            "Similarities with recent news article : 90 - 0.38143986127427953\n",
            "Similarities with recent news article : 91 - 0.37131352596671297\n",
            "Similarities with recent news article : 92 - 0.3597078745801986\n",
            "Similarities with recent news article : 93 - 0.33408351047262747\n",
            "Similarities with recent news article : 94 - 0.41764463587730527\n",
            "Similarities with recent news article : 95 - 0.33408351047262747\n",
            "Similarities with recent news article : 96 - 0.38143986127427953\n",
            "Similarities with recent news article : 97 - 0.39244259912930424\n",
            "Similarities with recent news article : 98 - 0.39244259912930424\n",
            "Similarities with recent news article : 99 - 0.37131352596671297\n",
            "Similarities with recent news article : 100 - 0.3597078745801986\n",
            "Similarities with recent news article : 101 - 0.3597078745801986\n",
            "Similarities with recent news article : 102 - 0.3132555021033113\n",
            "Similarities with recent news article : 103 - 0.39244259912930424\n",
            "Similarities with recent news article : 104 - 0.39244259912930424\n",
            "Similarities with recent news article : 105 - 0.38143986127427953\n",
            "Similarities with recent news article : 106 - 0.3532666629240934\n",
            "Similarities with recent news article : 107 - 0.40445591751872967\n",
            "Similarities with recent news article : 108 - 0.37131352596671297\n",
            "Similarities with recent news article : 109 - 0.3231672066757835\n",
            "Similarities with recent news article : 110 - 0.37131352596671297\n",
            "Similarities with recent news article : 111 - 0.38143986127427953\n",
            "Similarities with recent news article : 112 - 0.39244259912930424\n",
            "Similarities with recent news article : 113 - 0.38143986127427953\n",
            "Similarities with recent news article : 114 - 0.3532666629240935\n",
            "Similarities with recent news article : 115 - 0.37131352596671297\n",
            "Similarities with recent news article : 116 - 0.37131352596671297\n",
            "Similarities with recent news article : 117 - 0.37131352596671297\n",
            "Similarities with recent news article : 118 - 0.41764463587730527\n",
            "Similarities with recent news article : 119 - 0.40445591751872967\n",
            "Similarities with recent news article : 120 - 0.37131352596671297\n",
            "Similarities with recent news article : 121 - 0.39244259912930424\n",
            "Similarities with recent news article : 122 - 0.39244259912930424\n",
            "Similarities with recent news article : 123 - 0.38143986127427953\n",
            "Similarities with recent news article : 124 - 0.3231672066757835\n",
            "Similarities with recent news article : 125 - 0.361953101239887\n",
            "Similarities with recent news article : 126 - 0.3231672066757835\n",
            "Similarities with recent news article : 127 - 0.37131352596671297\n",
            "Similarities with recent news article : 128 - 0.39244259912930424\n",
            "Similarities with recent news article : 129 - 0.3132555021033113\n",
            "Similarities with recent news article : 130 - 0.37131352596671297\n",
            "Similarities with recent news article : 131 - 0.361953101239887\n",
            "Similarities with recent news article : 132 - 0.37131352596671297\n",
            "Similarities with recent news article : 133 - 0.3231672066757835\n",
            "Similarities with recent news article : 134 - 0.41764463587730527\n",
            "Similarities with recent news article : 135 - 0.40445591751872967\n",
            "Similarities with recent news article : 136 - 0.40445591751872967\n",
            "Similarities with recent news article : 137 - 0.3532666629240934\n",
            "Similarities with recent news article : 138 - 0.33408351047262747\n",
            "Similarities with recent news article : 139 - 0.304203199015152\n",
            "Similarities with recent news article : 140 - 0.3532666629240935\n",
            "Similarities with recent news article : 141 - 0.39244259912930424\n",
            "Similarities with recent news article : 142 - 0.40445591751872967\n",
            "Similarities with recent news article : 143 - 0.361953101239887\n",
            "Similarities with recent news article : 144 - 0.3532666629240934\n"
          ],
          "name": "stdout"
        }
      ]
    },
    {
      "cell_type": "code",
      "metadata": {
        "id": "4gtTxLeGyWOW",
        "colab_type": "code",
        "colab": {}
      },
      "source": [
        ""
      ],
      "execution_count": 0,
      "outputs": []
    }
  ]
}